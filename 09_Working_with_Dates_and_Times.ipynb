{
 "cells": [
  {
   "cell_type": "code",
   "execution_count": 1,
   "metadata": {},
   "outputs": [],
   "source": [
    "import pandas as pd\n",
    "import datetime as dt"
   ]
  },
  {
   "cell_type": "markdown",
   "metadata": {},
   "source": [
    "# Review of Python's datetime Module"
   ]
  },
  {
   "cell_type": "code",
   "execution_count": 5,
   "metadata": {},
   "outputs": [],
   "source": [
    "someday = dt.date(2017, 8, 11)"
   ]
  },
  {
   "cell_type": "code",
   "execution_count": 6,
   "metadata": {},
   "outputs": [
    {
     "data": {
      "text/plain": [
       "11"
      ]
     },
     "execution_count": 6,
     "metadata": {},
     "output_type": "execute_result"
    }
   ],
   "source": [
    "someday.year\n",
    "someday.month\n",
    "someday.day"
   ]
  },
  {
   "cell_type": "code",
   "execution_count": 12,
   "metadata": {},
   "outputs": [
    {
     "data": {
      "text/plain": [
       "'2017-08-11'"
      ]
     },
     "execution_count": 12,
     "metadata": {},
     "output_type": "execute_result"
    }
   ],
   "source": [
    "str(someday)"
   ]
  },
  {
   "cell_type": "code",
   "execution_count": 11,
   "metadata": {},
   "outputs": [
    {
     "data": {
      "text/plain": [
       "'2017-08-11 08:13:57.000989'"
      ]
     },
     "execution_count": 11,
     "metadata": {},
     "output_type": "execute_result"
    }
   ],
   "source": [
    "str(dt.datetime(2017, 8, 11, 8, 13, 57, 989))"
   ]
  },
  {
   "cell_type": "code",
   "execution_count": 13,
   "metadata": {},
   "outputs": [],
   "source": [
    "sometime = dt.datetime(2017, 8, 11, 8, 13, 57, 989)"
   ]
  },
  {
   "cell_type": "code",
   "execution_count": 15,
   "metadata": {},
   "outputs": [
    {
     "data": {
      "text/plain": [
       "989"
      ]
     },
     "execution_count": 15,
     "metadata": {},
     "output_type": "execute_result"
    }
   ],
   "source": [
    "sometime.year\n",
    "sometime.second\n",
    "sometime.microsecond"
   ]
  },
  {
   "cell_type": "markdown",
   "metadata": {},
   "source": [
    "# The pandas Timestamp Object"
   ]
  },
  {
   "cell_type": "code",
   "execution_count": 21,
   "metadata": {},
   "outputs": [
    {
     "data": {
      "text/plain": [
       "Timestamp('2021-03-08 18:13:29')"
      ]
     },
     "execution_count": 21,
     "metadata": {},
     "output_type": "execute_result"
    }
   ],
   "source": [
    "pd.Timestamp('2015-03-31')\n",
    "pd.Timestamp('2015/03/31')\n",
    "pd.Timestamp('2015, 11, 04')\n",
    "pd.Timestamp('4/3/2000')\n",
    "pd.Timestamp('2021-03-08 6:13:29 PM')"
   ]
  },
  {
   "cell_type": "code",
   "execution_count": 23,
   "metadata": {},
   "outputs": [
    {
     "data": {
      "text/plain": [
       "Timestamp('2015-01-01 00:00:00')"
      ]
     },
     "execution_count": 23,
     "metadata": {},
     "output_type": "execute_result"
    }
   ],
   "source": [
    "pd.Timestamp(dt.date(2015, 1, 1))"
   ]
  },
  {
   "cell_type": "code",
   "execution_count": 26,
   "metadata": {},
   "outputs": [
    {
     "data": {
      "text/plain": [
       "Timestamp('2015-01-01 21:35:22')"
      ]
     },
     "execution_count": 26,
     "metadata": {},
     "output_type": "execute_result"
    }
   ],
   "source": [
    "pd.Timestamp(dt.datetime(2015, 1, 1, 21,35, 22))"
   ]
  },
  {
   "cell_type": "markdown",
   "metadata": {},
   "source": [
    "# The pandas DateTimeIndex Object"
   ]
  },
  {
   "cell_type": "code",
   "execution_count": 28,
   "metadata": {},
   "outputs": [
    {
     "data": {
      "text/plain": [
       "DatetimeIndex(['2016-01-02', '2016-04-12', '2009-09-07'], dtype='datetime64[ns]', freq=None)"
      ]
     },
     "execution_count": 28,
     "metadata": {},
     "output_type": "execute_result"
    }
   ],
   "source": [
    "dates = ['2016-01-02', '2016-04-12', '2009-09-07']\n",
    "dates = ['2016/01/02', '2016-04-12', '2009-09-07']\n",
    "pd.DatetimeIndex(dates)"
   ]
  },
  {
   "cell_type": "code",
   "execution_count": 32,
   "metadata": {},
   "outputs": [],
   "source": [
    "dates = [dt.date(2016,1,2), dt.date(2016,4,12), dt.date(2009,9,7)]\n",
    "dtIndex = pd.DatetimeIndex(dates)"
   ]
  },
  {
   "cell_type": "code",
   "execution_count": 33,
   "metadata": {},
   "outputs": [
    {
     "data": {
      "text/plain": [
       "2016-01-02    100\n",
       "2016-04-12    200\n",
       "2009-09-07    300\n",
       "dtype: int64"
      ]
     },
     "execution_count": 33,
     "metadata": {},
     "output_type": "execute_result"
    }
   ],
   "source": [
    "values = [100, 200, 300]\n",
    "pd.Series(data=values, index=dtIndex)"
   ]
  },
  {
   "cell_type": "markdown",
   "metadata": {},
   "source": [
    "# The pd.to_datetime() Method"
   ]
  },
  {
   "cell_type": "code",
   "execution_count": 37,
   "metadata": {},
   "outputs": [
    {
     "data": {
      "text/plain": [
       "DatetimeIndex(['2015-01-03', '2014-02-08', '2016-01-01', '1996-07-04'], dtype='datetime64[ns]', freq=None)"
      ]
     },
     "execution_count": 37,
     "metadata": {},
     "output_type": "execute_result"
    }
   ],
   "source": [
    "pd.to_datetime('2001-04-19')\n",
    "pd.to_datetime(dt.date(2015, 1, 1))\n",
    "pd.to_datetime(dt.datetime(2015, 1, 1, 14, 35, 20))\n",
    "pd.to_datetime(['2015-01-03', '2014/02/08', '2016', 'July 4th, 1996'])"
   ]
  },
  {
   "cell_type": "code",
   "execution_count": 38,
   "metadata": {},
   "outputs": [
    {
     "data": {
      "text/plain": [
       "['2015-01-03', '2014/02/08', '2016', 'July 4th, 1996']"
      ]
     },
     "execution_count": 38,
     "metadata": {},
     "output_type": "execute_result"
    }
   ],
   "source": [
    "times = ['2015-01-03', '2014/02/08', '2016', 'July 4th, 1996']\n",
    "times"
   ]
  },
  {
   "cell_type": "code",
   "execution_count": 39,
   "metadata": {},
   "outputs": [
    {
     "data": {
      "text/plain": [
       "DatetimeIndex(['2015-01-03', '2014-02-08', '2016-01-01', '1996-07-04'], dtype='datetime64[ns]', freq=None)"
      ]
     },
     "execution_count": 39,
     "metadata": {},
     "output_type": "execute_result"
    }
   ],
   "source": [
    "pd.to_datetime(times)"
   ]
  },
  {
   "cell_type": "code",
   "execution_count": 41,
   "metadata": {},
   "outputs": [
    {
     "data": {
      "text/plain": [
       "0    July 4th, 1996\n",
       "1        10/04/1991\n",
       "2             Hello\n",
       "3        2015-02-31\n",
       "dtype: object"
      ]
     },
     "execution_count": 41,
     "metadata": {},
     "output_type": "execute_result"
    }
   ],
   "source": [
    "dates = pd.Series(['July 4th, 1996', '10/04/1991', 'Hello', '2015-02-31'])\n",
    "dates"
   ]
  },
  {
   "cell_type": "code",
   "execution_count": 43,
   "metadata": {},
   "outputs": [
    {
     "data": {
      "text/plain": [
       "0   1996-07-04\n",
       "1   1991-10-04\n",
       "2          NaT\n",
       "3          NaT\n",
       "dtype: datetime64[ns]"
      ]
     },
     "execution_count": 43,
     "metadata": {},
     "output_type": "execute_result"
    }
   ],
   "source": [
    "pd.to_datetime(dates, errors='coerce')"
   ]
  },
  {
   "cell_type": "code",
   "execution_count": 46,
   "metadata": {},
   "outputs": [
    {
     "data": {
      "text/plain": [
       "DatetimeIndex(['2012-10-08 18:15:05', '2012-10-09 18:15:05',\n",
       "               '2012-10-10 18:15:05', '2012-10-11 18:15:05',\n",
       "               '2012-10-12 18:15:05'],\n",
       "              dtype='datetime64[ns]', freq=None)"
      ]
     },
     "execution_count": 46,
     "metadata": {},
     "output_type": "execute_result"
    }
   ],
   "source": [
    "# unix time\n",
    "pd.to_datetime([1349720105, 1349806505, 1349892905, 1349979305, 1350065705], unit='s')"
   ]
  },
  {
   "cell_type": "markdown",
   "metadata": {},
   "source": [
    "# Create Range of Dates with the pd.date_range() Method, Part 1"
   ]
  },
  {
   "cell_type": "code",
   "execution_count": 61,
   "metadata": {},
   "outputs": [
    {
     "data": {
      "text/plain": [
       "Timestamp('2016-01-01 00:00:00', freq='D')"
      ]
     },
     "execution_count": 61,
     "metadata": {},
     "output_type": "execute_result"
    }
   ],
   "source": [
    "times = pd.date_range(start='2016-01-01', end='2016-01-10', freq='D')\n",
    "times[0]"
   ]
  },
  {
   "cell_type": "code",
   "execution_count": 62,
   "metadata": {},
   "outputs": [
    {
     "data": {
      "text/plain": [
       "DatetimeIndex(['2016-01-01', '2016-01-03', '2016-01-05', '2016-01-07',\n",
       "               '2016-01-09'],\n",
       "              dtype='datetime64[ns]', freq='2D')"
      ]
     },
     "execution_count": 62,
     "metadata": {},
     "output_type": "execute_result"
    }
   ],
   "source": [
    "pd.date_range(start='2016-01-01', end='2016-01-10', freq='2D')"
   ]
  },
  {
   "cell_type": "code",
   "execution_count": 63,
   "metadata": {},
   "outputs": [
    {
     "data": {
      "text/plain": [
       "DatetimeIndex(['2016-01-01', '2016-01-04', '2016-01-05', '2016-01-06',\n",
       "               '2016-01-07', '2016-01-08'],\n",
       "              dtype='datetime64[ns]', freq='B')"
      ]
     },
     "execution_count": 63,
     "metadata": {},
     "output_type": "execute_result"
    }
   ],
   "source": [
    "# freq='B' is business days\n",
    "pd.date_range(start='2016-01-01', end='2016-01-10', freq='B')"
   ]
  },
  {
   "cell_type": "code",
   "execution_count": 64,
   "metadata": {},
   "outputs": [
    {
     "data": {
      "text/plain": [
       "DatetimeIndex(['2016-01-01', '2016-01-08'], dtype='datetime64[ns]', freq='W-FRI')"
      ]
     },
     "execution_count": 64,
     "metadata": {},
     "output_type": "execute_result"
    }
   ],
   "source": [
    "pd.date_range(start='2016-01-01', end='2016-01-10', freq='W-FRI')"
   ]
  },
  {
   "cell_type": "code",
   "execution_count": 65,
   "metadata": {},
   "outputs": [
    {
     "data": {
      "text/plain": [
       "DatetimeIndex(['2016-01-01 00:00:00', '2016-01-01 01:00:00',\n",
       "               '2016-01-01 02:00:00', '2016-01-01 03:00:00',\n",
       "               '2016-01-01 04:00:00', '2016-01-01 05:00:00',\n",
       "               '2016-01-01 06:00:00', '2016-01-01 07:00:00',\n",
       "               '2016-01-01 08:00:00', '2016-01-01 09:00:00',\n",
       "               ...\n",
       "               '2016-01-09 15:00:00', '2016-01-09 16:00:00',\n",
       "               '2016-01-09 17:00:00', '2016-01-09 18:00:00',\n",
       "               '2016-01-09 19:00:00', '2016-01-09 20:00:00',\n",
       "               '2016-01-09 21:00:00', '2016-01-09 22:00:00',\n",
       "               '2016-01-09 23:00:00', '2016-01-10 00:00:00'],\n",
       "              dtype='datetime64[ns]', length=217, freq='H')"
      ]
     },
     "execution_count": 65,
     "metadata": {},
     "output_type": "execute_result"
    }
   ],
   "source": [
    "pd.date_range(start='2016-01-01', end='2016-01-10', freq='H')"
   ]
  },
  {
   "cell_type": "code",
   "execution_count": 66,
   "metadata": {},
   "outputs": [
    {
     "data": {
      "text/plain": [
       "DatetimeIndex(['2016-01-01', '2016-02-01', '2016-03-01', '2016-04-01',\n",
       "               '2016-05-01', '2016-06-01', '2016-07-01', '2016-08-01',\n",
       "               '2016-09-01', '2016-10-01', '2016-11-01', '2016-12-01'],\n",
       "              dtype='datetime64[ns]', freq='MS')"
      ]
     },
     "execution_count": 66,
     "metadata": {},
     "output_type": "execute_result"
    }
   ],
   "source": [
    "# M is month end\n",
    "# MS is month start\n",
    "pd.date_range(start='2016-01-01', end='2016-12-31', freq='MS')"
   ]
  },
  {
   "cell_type": "code",
   "execution_count": 67,
   "metadata": {},
   "outputs": [
    {
     "data": {
      "text/plain": [
       "DatetimeIndex(['2016-12-31', '2017-12-31', '2018-12-31', '2019-12-31',\n",
       "               '2020-12-31'],\n",
       "              dtype='datetime64[ns]', freq='A-DEC')"
      ]
     },
     "execution_count": 67,
     "metadata": {},
     "output_type": "execute_result"
    }
   ],
   "source": [
    "pd.date_range(start='2016-01-01', end='2020-12-31', freq='A')"
   ]
  },
  {
   "cell_type": "markdown",
   "metadata": {},
   "source": [
    "# Create Range of Dates with the pd.date_range() Method, Part 2"
   ]
  },
  {
   "cell_type": "code",
   "execution_count": 70,
   "metadata": {},
   "outputs": [
    {
     "data": {
      "text/plain": [
       "DatetimeIndex(['2012-09-10', '2012-09-11', '2012-09-12', '2012-09-13',\n",
       "               '2012-09-14', '2012-09-17', '2012-09-18', '2012-09-19',\n",
       "               '2012-09-20', '2012-09-21', '2012-09-24', '2012-09-25',\n",
       "               '2012-09-26', '2012-09-27', '2012-09-28', '2012-10-01',\n",
       "               '2012-10-02', '2012-10-03', '2012-10-04', '2012-10-05',\n",
       "               '2012-10-08', '2012-10-09', '2012-10-10', '2012-10-11',\n",
       "               '2012-10-12', '2012-10-15', '2012-10-16', '2012-10-17',\n",
       "               '2012-10-18', '2012-10-19', '2012-10-22', '2012-10-23',\n",
       "               '2012-10-24', '2012-10-25', '2012-10-26', '2012-10-29',\n",
       "               '2012-10-30', '2012-10-31', '2012-11-01', '2012-11-02',\n",
       "               '2012-11-05', '2012-11-06', '2012-11-07', '2012-11-08',\n",
       "               '2012-11-09', '2012-11-12', '2012-11-13', '2012-11-14',\n",
       "               '2012-11-15', '2012-11-16'],\n",
       "              dtype='datetime64[ns]', freq='B')"
      ]
     },
     "execution_count": 70,
     "metadata": {},
     "output_type": "execute_result"
    }
   ],
   "source": [
    "pd.date_range(start='2012-09-09', periods=50, freq='B')"
   ]
  },
  {
   "cell_type": "code",
   "execution_count": 72,
   "metadata": {},
   "outputs": [
    {
     "data": {
      "text/plain": [
       "DatetimeIndex(['2012-09-11', '2012-09-18', '2012-09-25', '2012-10-02',\n",
       "               '2012-10-09', '2012-10-16', '2012-10-23', '2012-10-30',\n",
       "               '2012-11-06', '2012-11-13', '2012-11-20', '2012-11-27',\n",
       "               '2012-12-04', '2012-12-11', '2012-12-18', '2012-12-25',\n",
       "               '2013-01-01', '2013-01-08', '2013-01-15', '2013-01-22',\n",
       "               '2013-01-29', '2013-02-05', '2013-02-12', '2013-02-19',\n",
       "               '2013-02-26', '2013-03-05', '2013-03-12', '2013-03-19',\n",
       "               '2013-03-26', '2013-04-02', '2013-04-09', '2013-04-16',\n",
       "               '2013-04-23', '2013-04-30', '2013-05-07', '2013-05-14',\n",
       "               '2013-05-21', '2013-05-28', '2013-06-04', '2013-06-11',\n",
       "               '2013-06-18', '2013-06-25', '2013-07-02', '2013-07-09',\n",
       "               '2013-07-16', '2013-07-23', '2013-07-30', '2013-08-06',\n",
       "               '2013-08-13', '2013-08-20'],\n",
       "              dtype='datetime64[ns]', freq='W-TUE')"
      ]
     },
     "execution_count": 72,
     "metadata": {},
     "output_type": "execute_result"
    }
   ],
   "source": [
    "pd.date_range(start='2012-09-09', periods=50, freq='W-TUE')"
   ]
  },
  {
   "cell_type": "code",
   "execution_count": 73,
   "metadata": {},
   "outputs": [
    {
     "data": {
      "text/plain": [
       "DatetimeIndex(['2012-10-01', '2012-11-01', '2012-12-01', '2013-01-01',\n",
       "               '2013-02-01', '2013-03-01', '2013-04-01', '2013-05-01',\n",
       "               '2013-06-01', '2013-07-01', '2013-08-01', '2013-09-01',\n",
       "               '2013-10-01', '2013-11-01', '2013-12-01', '2014-01-01',\n",
       "               '2014-02-01', '2014-03-01', '2014-04-01', '2014-05-01',\n",
       "               '2014-06-01', '2014-07-01', '2014-08-01', '2014-09-01',\n",
       "               '2014-10-01', '2014-11-01', '2014-12-01', '2015-01-01',\n",
       "               '2015-02-01', '2015-03-01', '2015-04-01', '2015-05-01',\n",
       "               '2015-06-01', '2015-07-01', '2015-08-01', '2015-09-01',\n",
       "               '2015-10-01', '2015-11-01', '2015-12-01', '2016-01-01',\n",
       "               '2016-02-01', '2016-03-01', '2016-04-01', '2016-05-01',\n",
       "               '2016-06-01', '2016-07-01', '2016-08-01', '2016-09-01',\n",
       "               '2016-10-01', '2016-11-01'],\n",
       "              dtype='datetime64[ns]', freq='MS')"
      ]
     },
     "execution_count": 73,
     "metadata": {},
     "output_type": "execute_result"
    }
   ],
   "source": [
    "pd.date_range(start='2012-09-09', periods=50, freq='MS')"
   ]
  },
  {
   "cell_type": "code",
   "execution_count": 74,
   "metadata": {},
   "outputs": [
    {
     "data": {
      "text/plain": [
       "DatetimeIndex(['2012-09-09 00:00:00', '2012-09-09 06:00:00',\n",
       "               '2012-09-09 12:00:00', '2012-09-09 18:00:00',\n",
       "               '2012-09-10 00:00:00', '2012-09-10 06:00:00',\n",
       "               '2012-09-10 12:00:00', '2012-09-10 18:00:00',\n",
       "               '2012-09-11 00:00:00', '2012-09-11 06:00:00',\n",
       "               '2012-09-11 12:00:00', '2012-09-11 18:00:00',\n",
       "               '2012-09-12 00:00:00', '2012-09-12 06:00:00',\n",
       "               '2012-09-12 12:00:00', '2012-09-12 18:00:00',\n",
       "               '2012-09-13 00:00:00', '2012-09-13 06:00:00',\n",
       "               '2012-09-13 12:00:00', '2012-09-13 18:00:00',\n",
       "               '2012-09-14 00:00:00', '2012-09-14 06:00:00',\n",
       "               '2012-09-14 12:00:00', '2012-09-14 18:00:00',\n",
       "               '2012-09-15 00:00:00', '2012-09-15 06:00:00',\n",
       "               '2012-09-15 12:00:00', '2012-09-15 18:00:00',\n",
       "               '2012-09-16 00:00:00', '2012-09-16 06:00:00',\n",
       "               '2012-09-16 12:00:00', '2012-09-16 18:00:00',\n",
       "               '2012-09-17 00:00:00', '2012-09-17 06:00:00',\n",
       "               '2012-09-17 12:00:00', '2012-09-17 18:00:00',\n",
       "               '2012-09-18 00:00:00', '2012-09-18 06:00:00',\n",
       "               '2012-09-18 12:00:00', '2012-09-18 18:00:00',\n",
       "               '2012-09-19 00:00:00', '2012-09-19 06:00:00',\n",
       "               '2012-09-19 12:00:00', '2012-09-19 18:00:00',\n",
       "               '2012-09-20 00:00:00', '2012-09-20 06:00:00',\n",
       "               '2012-09-20 12:00:00', '2012-09-20 18:00:00',\n",
       "               '2012-09-21 00:00:00', '2012-09-21 06:00:00'],\n",
       "              dtype='datetime64[ns]', freq='6H')"
      ]
     },
     "execution_count": 74,
     "metadata": {},
     "output_type": "execute_result"
    }
   ],
   "source": [
    "pd.date_range(start='2012-09-09', periods=50, freq='6H')"
   ]
  },
  {
   "cell_type": "markdown",
   "metadata": {},
   "source": [
    "# Create Range of Dates with the pd.date_range() Method, Part 3"
   ]
  },
  {
   "cell_type": "code",
   "execution_count": 75,
   "metadata": {},
   "outputs": [
    {
     "data": {
      "text/plain": [
       "DatetimeIndex(['1999-12-12', '1999-12-13', '1999-12-14', '1999-12-15',\n",
       "               '1999-12-16', '1999-12-17', '1999-12-18', '1999-12-19',\n",
       "               '1999-12-20', '1999-12-21', '1999-12-22', '1999-12-23',\n",
       "               '1999-12-24', '1999-12-25', '1999-12-26', '1999-12-27',\n",
       "               '1999-12-28', '1999-12-29', '1999-12-30', '1999-12-31'],\n",
       "              dtype='datetime64[ns]', freq='D')"
      ]
     },
     "execution_count": 75,
     "metadata": {},
     "output_type": "execute_result"
    }
   ],
   "source": [
    "pd.date_range(end='1999-12-31', periods=20, freq='D')"
   ]
  },
  {
   "cell_type": "code",
   "execution_count": 77,
   "metadata": {},
   "outputs": [
    {
     "data": {
      "text/plain": [
       "DatetimeIndex(['1999-11-08', '1999-11-09', '1999-11-10', '1999-11-11',\n",
       "               '1999-11-12', '1999-11-15', '1999-11-16', '1999-11-17',\n",
       "               '1999-11-18', '1999-11-19', '1999-11-22', '1999-11-23',\n",
       "               '1999-11-24', '1999-11-25', '1999-11-26', '1999-11-29',\n",
       "               '1999-11-30', '1999-12-01', '1999-12-02', '1999-12-03',\n",
       "               '1999-12-06', '1999-12-07', '1999-12-08', '1999-12-09',\n",
       "               '1999-12-10', '1999-12-13', '1999-12-14', '1999-12-15',\n",
       "               '1999-12-16', '1999-12-17', '1999-12-20', '1999-12-21',\n",
       "               '1999-12-22', '1999-12-23', '1999-12-24', '1999-12-27',\n",
       "               '1999-12-28', '1999-12-29', '1999-12-30', '1999-12-31'],\n",
       "              dtype='datetime64[ns]', freq='B')"
      ]
     },
     "execution_count": 77,
     "metadata": {},
     "output_type": "execute_result"
    }
   ],
   "source": [
    "pd.date_range(end='1999-12-31', periods=40, freq='B')"
   ]
  },
  {
   "cell_type": "code",
   "execution_count": 78,
   "metadata": {},
   "outputs": [
    {
     "data": {
      "text/plain": [
       "DatetimeIndex(['1999-03-28', '1999-04-04', '1999-04-11', '1999-04-18',\n",
       "               '1999-04-25', '1999-05-02', '1999-05-09', '1999-05-16',\n",
       "               '1999-05-23', '1999-05-30', '1999-06-06', '1999-06-13',\n",
       "               '1999-06-20', '1999-06-27', '1999-07-04', '1999-07-11',\n",
       "               '1999-07-18', '1999-07-25', '1999-08-01', '1999-08-08',\n",
       "               '1999-08-15', '1999-08-22', '1999-08-29', '1999-09-05',\n",
       "               '1999-09-12', '1999-09-19', '1999-09-26', '1999-10-03',\n",
       "               '1999-10-10', '1999-10-17', '1999-10-24', '1999-10-31',\n",
       "               '1999-11-07', '1999-11-14', '1999-11-21', '1999-11-28',\n",
       "               '1999-12-05', '1999-12-12', '1999-12-19', '1999-12-26'],\n",
       "              dtype='datetime64[ns]', freq='W-SUN')"
      ]
     },
     "execution_count": 78,
     "metadata": {},
     "output_type": "execute_result"
    }
   ],
   "source": [
    "pd.date_range(end='1999-12-31', periods=40, freq='W-SUN')"
   ]
  },
  {
   "cell_type": "code",
   "execution_count": 79,
   "metadata": {},
   "outputs": [
    {
     "data": {
      "text/plain": [
       "DatetimeIndex(['1999-04-02', '1999-04-09', '1999-04-16', '1999-04-23',\n",
       "               '1999-04-30', '1999-05-07', '1999-05-14', '1999-05-21',\n",
       "               '1999-05-28', '1999-06-04', '1999-06-11', '1999-06-18',\n",
       "               '1999-06-25', '1999-07-02', '1999-07-09', '1999-07-16',\n",
       "               '1999-07-23', '1999-07-30', '1999-08-06', '1999-08-13',\n",
       "               '1999-08-20', '1999-08-27', '1999-09-03', '1999-09-10',\n",
       "               '1999-09-17', '1999-09-24', '1999-10-01', '1999-10-08',\n",
       "               '1999-10-15', '1999-10-22', '1999-10-29', '1999-11-05',\n",
       "               '1999-11-12', '1999-11-19', '1999-11-26', '1999-12-03',\n",
       "               '1999-12-10', '1999-12-17', '1999-12-24', '1999-12-31'],\n",
       "              dtype='datetime64[ns]', freq='W-FRI')"
      ]
     },
     "execution_count": 79,
     "metadata": {},
     "output_type": "execute_result"
    }
   ],
   "source": [
    "pd.date_range(end='1999-12-31', periods=40, freq='W-FRI')"
   ]
  },
  {
   "cell_type": "code",
   "execution_count": 80,
   "metadata": {},
   "outputs": [
    {
     "data": {
      "text/plain": [
       "DatetimeIndex(['1996-09-30', '1996-10-31', '1996-11-30', '1996-12-31',\n",
       "               '1997-01-31', '1997-02-28', '1997-03-31', '1997-04-30',\n",
       "               '1997-05-31', '1997-06-30', '1997-07-31', '1997-08-31',\n",
       "               '1997-09-30', '1997-10-31', '1997-11-30', '1997-12-31',\n",
       "               '1998-01-31', '1998-02-28', '1998-03-31', '1998-04-30',\n",
       "               '1998-05-31', '1998-06-30', '1998-07-31', '1998-08-31',\n",
       "               '1998-09-30', '1998-10-31', '1998-11-30', '1998-12-31',\n",
       "               '1999-01-31', '1999-02-28', '1999-03-31', '1999-04-30',\n",
       "               '1999-05-31', '1999-06-30', '1999-07-31', '1999-08-31',\n",
       "               '1999-09-30', '1999-10-31', '1999-11-30', '1999-12-31'],\n",
       "              dtype='datetime64[ns]', freq='M')"
      ]
     },
     "execution_count": 80,
     "metadata": {},
     "output_type": "execute_result"
    }
   ],
   "source": [
    "pd.date_range(end='1999-12-31', periods=40, freq='M')"
   ]
  },
  {
   "cell_type": "markdown",
   "metadata": {},
   "source": [
    "# The .dt Accessor"
   ]
  },
  {
   "cell_type": "code",
   "execution_count": 83,
   "metadata": {},
   "outputs": [],
   "source": [
    "dates = pd.date_range(start='2000-01-01', end='2010-12-31', freq='24D')"
   ]
  },
  {
   "cell_type": "code",
   "execution_count": 84,
   "metadata": {},
   "outputs": [
    {
     "data": {
      "text/plain": [
       "0   2000-01-01\n",
       "1   2000-01-25\n",
       "2   2000-02-18\n",
       "dtype: datetime64[ns]"
      ]
     },
     "execution_count": 84,
     "metadata": {},
     "output_type": "execute_result"
    }
   ],
   "source": [
    "s = pd.Series(dates)\n",
    "s.head(3)"
   ]
  },
  {
   "cell_type": "code",
   "execution_count": null,
   "metadata": {},
   "outputs": [],
   "source": []
  },
  {
   "cell_type": "code",
   "execution_count": null,
   "metadata": {},
   "outputs": [],
   "source": []
  },
  {
   "cell_type": "code",
   "execution_count": null,
   "metadata": {},
   "outputs": [],
   "source": []
  },
  {
   "cell_type": "code",
   "execution_count": null,
   "metadata": {},
   "outputs": [],
   "source": []
  },
  {
   "cell_type": "code",
   "execution_count": null,
   "metadata": {},
   "outputs": [],
   "source": []
  },
  {
   "cell_type": "code",
   "execution_count": null,
   "metadata": {},
   "outputs": [],
   "source": []
  },
  {
   "cell_type": "code",
   "execution_count": null,
   "metadata": {},
   "outputs": [],
   "source": []
  },
  {
   "cell_type": "code",
   "execution_count": null,
   "metadata": {},
   "outputs": [],
   "source": []
  },
  {
   "cell_type": "code",
   "execution_count": null,
   "metadata": {},
   "outputs": [],
   "source": []
  },
  {
   "cell_type": "code",
   "execution_count": null,
   "metadata": {},
   "outputs": [],
   "source": []
  },
  {
   "cell_type": "code",
   "execution_count": null,
   "metadata": {},
   "outputs": [],
   "source": []
  },
  {
   "cell_type": "code",
   "execution_count": null,
   "metadata": {},
   "outputs": [],
   "source": []
  },
  {
   "cell_type": "code",
   "execution_count": null,
   "metadata": {},
   "outputs": [],
   "source": []
  },
  {
   "cell_type": "code",
   "execution_count": null,
   "metadata": {},
   "outputs": [],
   "source": []
  }
 ],
 "metadata": {
  "kernelspec": {
   "display_name": "Python [conda root]",
   "language": "python",
   "name": "conda-root-py"
  },
  "language_info": {
   "codemirror_mode": {
    "name": "ipython",
    "version": 3
   },
   "file_extension": ".py",
   "mimetype": "text/x-python",
   "name": "python",
   "nbconvert_exporter": "python",
   "pygments_lexer": "ipython3",
   "version": "3.5.5"
  }
 },
 "nbformat": 4,
 "nbformat_minor": 2
}
